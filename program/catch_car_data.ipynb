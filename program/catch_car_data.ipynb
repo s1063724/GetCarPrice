{
  "nbformat": 4,
  "nbformat_minor": 0,
  "metadata": {
    "colab": {
      "provenance": [],
      "authorship_tag": "ABX9TyOqfFVmcK2kp3bqGUoGuLDD",
      "include_colab_link": true
    },
    "kernelspec": {
      "name": "python3",
      "display_name": "Python 3"
    },
    "language_info": {
      "name": "python"
    }
  },
  "cells": [
    {
      "cell_type": "markdown",
      "metadata": {
        "id": "view-in-github",
        "colab_type": "text"
      },
      "source": [
        "<a href=\"https://colab.research.google.com/github/s1063724/GetCarPrice/blob/main/program/catch_car_data.ipynb\" target=\"_parent\"><img src=\"https://colab.research.google.com/assets/colab-badge.svg\" alt=\"Open In Colab\"/></a>"
      ]
    },
    {
      "cell_type": "code",
      "source": [
        "!pip install selenium\n",
        "!apt install chromium-chromedriver"
      ],
      "metadata": {
        "colab": {
          "base_uri": "https://localhost:8080/"
        },
        "id": "mxYTwyFk0CaQ",
        "outputId": "90a575e7-2fda-4dfa-c761-f76f0f7e051a"
      },
      "execution_count": null,
      "outputs": [
        {
          "output_type": "stream",
          "name": "stdout",
          "text": [
            "Requirement already satisfied: selenium in /usr/local/lib/python3.10/dist-packages (4.17.2)\n",
            "Requirement already satisfied: urllib3[socks]<3,>=1.26 in /usr/local/lib/python3.10/dist-packages (from selenium) (2.0.7)\n",
            "Requirement already satisfied: trio~=0.17 in /usr/local/lib/python3.10/dist-packages (from selenium) (0.24.0)\n",
            "Requirement already satisfied: trio-websocket~=0.9 in /usr/local/lib/python3.10/dist-packages (from selenium) (0.11.1)\n",
            "Requirement already satisfied: certifi>=2021.10.8 in /usr/local/lib/python3.10/dist-packages (from selenium) (2024.2.2)\n",
            "Requirement already satisfied: typing_extensions>=4.9.0 in /usr/local/lib/python3.10/dist-packages (from selenium) (4.9.0)\n",
            "Requirement already satisfied: attrs>=20.1.0 in /usr/local/lib/python3.10/dist-packages (from trio~=0.17->selenium) (23.2.0)\n",
            "Requirement already satisfied: sortedcontainers in /usr/local/lib/python3.10/dist-packages (from trio~=0.17->selenium) (2.4.0)\n",
            "Requirement already satisfied: idna in /usr/local/lib/python3.10/dist-packages (from trio~=0.17->selenium) (3.6)\n",
            "Requirement already satisfied: outcome in /usr/local/lib/python3.10/dist-packages (from trio~=0.17->selenium) (1.3.0.post0)\n",
            "Requirement already satisfied: sniffio>=1.3.0 in /usr/local/lib/python3.10/dist-packages (from trio~=0.17->selenium) (1.3.0)\n",
            "Requirement already satisfied: exceptiongroup in /usr/local/lib/python3.10/dist-packages (from trio~=0.17->selenium) (1.2.0)\n",
            "Requirement already satisfied: wsproto>=0.14 in /usr/local/lib/python3.10/dist-packages (from trio-websocket~=0.9->selenium) (1.2.0)\n",
            "Requirement already satisfied: pysocks!=1.5.7,<2.0,>=1.5.6 in /usr/local/lib/python3.10/dist-packages (from urllib3[socks]<3,>=1.26->selenium) (1.7.1)\n",
            "Requirement already satisfied: h11<1,>=0.9.0 in /usr/local/lib/python3.10/dist-packages (from wsproto>=0.14->trio-websocket~=0.9->selenium) (0.14.0)\n",
            "Reading package lists... Done\n",
            "Building dependency tree... Done\n",
            "Reading state information... Done\n",
            "chromium-chromedriver is already the newest version (1:85.0.4183.83-0ubuntu2.22.04.1).\n",
            "0 upgraded, 0 newly installed, 0 to remove and 32 not upgraded.\n"
          ]
        }
      ]
    },
    {
      "cell_type": "code",
      "source": [
        "!pip install chromedriver-autoinstaller"
      ],
      "metadata": {
        "colab": {
          "base_uri": "https://localhost:8080/"
        },
        "id": "OkecoeK1aYmm",
        "outputId": "76d5fd63-6f49-4f2b-aad3-9bc4d319d224"
      },
      "execution_count": null,
      "outputs": [
        {
          "output_type": "stream",
          "name": "stdout",
          "text": [
            "Requirement already satisfied: chromedriver-autoinstaller in /usr/local/lib/python3.10/dist-packages (0.6.4)\n",
            "Requirement already satisfied: packaging>=23.1 in /usr/local/lib/python3.10/dist-packages (from chromedriver-autoinstaller) (23.2)\n"
          ]
        }
      ]
    },
    {
      "cell_type": "code",
      "source": [
        "import sys\n",
        "sys.path.insert(0,'/usr/lib/chromium-browser/chromedriver')\n",
        "\n",
        "import time\n",
        "import pandas as pd\n",
        "from bs4 import BeautifulSoup\n",
        "from selenium import webdriver\n",
        "import chromedriver_autoinstaller\n",
        "\n",
        "# 設定Chrome\n",
        "chrome_options = webdriver.ChromeOptions()\n",
        "chrome_options.add_argument('--headless') # 確定GUI關閉\n",
        "chrome_options.add_argument('--no-sandbox')\n",
        "chrome_options.add_argument('--disable-dev-shm-usage')\n",
        "\n",
        "# 根據您的配置將路徑設置為 ChromeDriver\n",
        "chromedriver_autoinstaller.install()\n",
        "\n",
        "\n",
        "url = 'https://www.abccar.com.tw/Search?tab=1&SearchType=1&OrderByField=0'\n",
        "\n",
        "# 設定瀏覽器\n",
        "driver = webdriver.Chrome(options=chrome_options)\n",
        "\n",
        "driver.get(url)\n",
        "# driver.implicitly_wait(10)"
      ],
      "metadata": {
        "id": "EjZ4Xg1nqkoe"
      },
      "execution_count": null,
      "outputs": []
    },
    {
      "cell_type": "code",
      "source": [
        "'''\n",
        "解決問題資料:\n",
        "  - https://pytutorial.com/beautifulsoup-how-to-get-text-inside-tag-or-tgs/\n",
        "  - https://stackoverflow.com/questions/51189822/beautifulsoup-find-class-names-and-not\n",
        "  - https://www.delftstack.com/zh-tw/howto/python/python-extract-number-from-string/\n",
        "  - https://stackoverflow.com/questions/28162358/append-a-header-for-csv-file\n",
        "'''\n",
        "# from typing_extensions import dataclass_transform\n",
        "from bs4 import BeautifulSoup\n",
        "import re\n",
        "\n",
        "\n",
        "\n",
        "def get_page(d:list):\n",
        "\n",
        "  soup = BeautifulSoup(driver.page_source, 'lxml')\n",
        "\n",
        "  block = soup.find('div', class_ = 'w-full flex flex-wrap relative')\n",
        "  blocks = block.find_all('div', class_ = 'w-1/3')\n",
        "  for ele in blocks:\n",
        "    rowlist = []\n",
        "    name = ele.find('div',class_ = 'flex items-center').find('p', class_ = 'flex-1 min-w-0 font-normal text-lg text-black text-ellipsis whitespace-nowrap overflow-hidden').text\n",
        "    datas = ele.find_all('div',class_ = 'w-full')\n",
        "    pr = ele.find('p', class_ = ['font-semibold text-2xl text-hotai-red px-1','font-semibold text-2xl text-hotai-red']).get_text()\n",
        "    ps = [float(p) for p in re.findall(r\"-?\\d+\\.?\\d*\", pr)]\n",
        "    for p in ps:\n",
        "      p\n",
        "    for cell in datas:\n",
        "      rowlist.append(cell.find('p', class_ = 'font-normal text-sm md:text-xs text-[#979797] leading-normal text-ellipsis whitespace-nowrap overflow-hidden').get_text().split('｜'))\n",
        "\n",
        "      year = rowlist[0][0]\n",
        "      y = [int(y) for y in re.findall(r\"-?\\d+\\.?\\d*\", year)]\n",
        "      for i in y:\n",
        "        i\n",
        "\n",
        "      mileage = rowlist[0][1]\n",
        "      ms = [float(m) for m in re.findall(r\"-?\\d+\\.?\\d*\", mileage)]\n",
        "      for m in ms:\n",
        "        m\n",
        "      local = rowlist[0][2]\n",
        "\n",
        "      # looks = rowlist[0][3]\n",
        "\n",
        "    d.append([name, i, m, local, p])\n",
        "    # print(pr)\n",
        "  # print(d)"
      ],
      "metadata": {
        "id": "kmyenM7S0_fx"
      },
      "execution_count": null,
      "outputs": []
    },
    {
      "cell_type": "code",
      "source": [
        "from selenium.webdriver.common.by import By\n",
        "\n",
        "a = []\n",
        "b = []\n",
        "c = []\n",
        "d = []\n",
        "e = []\n",
        "f = []\n",
        "g = []\n",
        "h = []\n",
        "\n",
        "get_page(a)\n",
        "print(a)\n",
        "\n",
        "driver.find_element(By.XPATH, '//*[@id=\"search\"]/div/div[3]/div[6]/div[2]/div[1]/div[2]/div[1]/button[3]').click()\n",
        "get_page(b)\n",
        "for item in b:\n",
        "  a.append(item)\n",
        "print(len(a))\n",
        "print(a)\n",
        "\n",
        "driver.find_element(By.XPATH, '//*[@id=\"search\"]/div/div[3]/div[6]/div[2]/div[1]/div[2]/div[1]/button[3]').click()\n",
        "get_page(c)\n",
        "for item in c:\n",
        "  a.append(item)\n",
        "print(len(a))\n",
        "print(a)\n",
        "\n",
        "driver.find_element(By.XPATH, '//*[@id=\"search\"]/div/div[3]/div[6]/div[2]/div[1]/div[2]/div[1]/button[3]').click()\n",
        "get_page(d)\n",
        "for item in d:\n",
        "  a.append(item)\n",
        "print(len(a))\n",
        "print(a)\n",
        "\n",
        "driver.find_element(By.XPATH, '//*[@id=\"search\"]/div/div[3]/div[6]/div[2]/div[1]/div[2]/div[1]/button[3]').click()\n",
        "get_page(e)\n",
        "for item in e:\n",
        "  a.append(item)\n",
        "print(len(a))\n",
        "print(a)\n",
        "\n",
        "driver.find_element(By.XPATH, '//*[@id=\"search\"]/div/div[3]/div[6]/div[2]/div[1]/div[2]/div[1]/button[3]').click()\n",
        "get_page(f)\n",
        "for item in f:\n",
        "  a.append(item)\n",
        "print(len(a))\n",
        "print(a)\n",
        "\n",
        "driver.find_element(By.XPATH, '//*[@id=\"search\"]/div/div[3]/div[6]/div[2]/div[1]/div[2]/div[1]/button[3]').click()\n",
        "get_page(g)\n",
        "for item in g:\n",
        "  a.append(item)\n",
        "print(len(a))\n",
        "print(a)\n",
        "\n",
        "driver.find_element(By.XPATH, '//*[@id=\"search\"]/div/div[3]/div[6]/div[2]/div[1]/div[2]/div[1]/button[3]').click()\n",
        "get_page(h)\n",
        "for item in h:\n",
        "  a.append(item)\n",
        "print(len(a))\n",
        "print(a)"
      ],
      "metadata": {
        "colab": {
          "base_uri": "https://localhost:8080/",
          "height": 1000
        },
        "id": "qtUcm8f-ZcRA",
        "outputId": "b73ec791-e3d8-43bc-fa64-6b43e42dd72d"
      },
      "execution_count": null,
      "outputs": [
        {
          "output_type": "stream",
          "name": "stdout",
          "text": [
            "[['LUXGEN 7 MPV 尊爵型', 2013, 12.8, '新北市', 20.0], ['M-BENZ CLA250 (C117)', 2016, 7.1, '新北市', 98.8], ['M-BENZ C300 Coupe 4MATIC AMG Line (C205)', 2017, 8.0, '新北市', 135.8], ['M-AMG C63 S (W205)', 2017, 6.0, '新北市', 226.8], ['M-BENZ C250 Coupe 運動版 (C205)', 2017, 7.0, '新北市', 138.8], ['TOYOTA Corolla Altis 經典版 (12代)', 2021, 3.9, '新北市', 45.8], ['TOYOTA Corolla Altis 經典版 (12代)', 2020, 2.3, '新北市', 41.0], ['Mazda 3 2.0 SKY-G Bose旗艦型 五門 (4代)', 2020, 4.7, '台南市', 62.2], ['TOYOTA RAV4', 2020, 5.7, '高雄市', 64.1], ['FORD Kuga', 2022, 1.6, '台南市', 68.6], ['LEXUS RX200t F Sport (4代)', 2017, 7.8, '桃園市', 140.0], ['MITSUBISHI Outlander', 2022, 0.8, '新北市', 71.8], ['TOYOTA RAV4 2.5 G (4代)', 2015, 7.4, '新北市', 45.8], ['MITSUBISHI Outlander', 2022, 3.1, '彰化縣', 65.4], ['M-BENZ S450 Coupe 4MATIC (C217)', 2018, 9.8, '新北市', 298.0], ['BMW 4 Series Gran Coupe', 2015, 5.0, '新北市', 125.0], ['TOYOTA RAV4', 2021, 2.8, '新竹市', 92.0], ['LEXUS LM300h 四人座', 2020, 6.3, '新北市', 368.8], ['中華 Zinger Pickup 2.4 晶鑽型', 2020, 4.0, '新竹市', 38.8], ['TOYOTA C-HR 尊爵 AWD', 2018, 17.0, '新竹市', 58.8], ['LEXUS ES300h 旗艦版 (6代)', 2015, 12.2, '新北市', 72.8], ['Nissan Big Tiida 1.6 豪華影音版', 2014, 7.3, '桃園市', 30.8], ['SUZUKI Jimny 1.3', 2014, 11.2, '桃園市', 35.8], ['TOYOTA Sienta 1.8 7人座尊爵', 2017, 3.3, '桃園市', 30.8], ['FORD Kuga EcoBoost 250 AWD 旗艦X (Mk3)', 2021, 2.0, '桃園市', 55.8], ['Honda CR-V S (5代)', 2020, 2.3, '桃園市', 50.8], ['TOYOTA RAV4 2.0 旗艦 (5代)', 2019, 2.3, '桃園市', 55.8], ['TOYOTA Corolla Cross Hybrid 旗艦', 2020, 1.6, '桃園市', 53.8], ['LUXGEN S5 GT225 AP賽道智能款', 2020, 3.0, '新北市', 48.8], ['TOYOTA Alphard Hybrid Executive Lounge (3代)', 2022, 2.1, '新北市', 285.8], ['TOYOTA Sienta 1.8 5人座豪華', 2018, 6.2, '新北市', 45.8], ['TOYOTA Yaris E (2代)', 2016, 7.2, '屏東縣', 36.8], ['TOYOTA Corolla Cross 安心', 2022, 1.5, '桃園市', 71.8], ['LEXUS RX200t 豪華版 (4代)', 2016, 4.2, '台中市', 138.8], ['LEXUS RX450hL 豪華版 (4代)', 2018, 8.3, '台中市', 163.8], ['TOYOTA Corolla Altis 雅緻版 (11代)', 2016, 10.7, '桃園市', 41.8], ['LEXUS NX200 菁英版 (1代)', 2018, 7.1, '台中市', 113.8], ['TOYOTA Camry 2.0 E (5代)', 2018, 8.5, '宜蘭縣', 53.8], ['LEXUS NX200 菁英版 (1代)', 2019, 3.8, '台北市', 118.8], ['TOYOTA Corolla Altis 雅緻版 (11代)', 2021, 2.4, '新北市', 73.8], ['TOYOTA Corolla Altis 雅緻版 (11代)', 2017, 6.1, '台北市', 43.8], ['INFINITI Q50 2.0t 旗艦款', 2017, 5.4, '台中市', 93.8], ['LEXUS CT200h 菁英版', 2018, 10.3, '台北市', 80.8], ['TOYOTA C-HR 經典', 2018, 2.0, '新北市', 65.8], ['FORD Focus ST-Line 五門 (Mk4)', 2019, 4.2, '桃園市', 32.8]]\n",
            "90\n",
            "[['LUXGEN 7 MPV 尊爵型', 2013, 12.8, '新北市', 20.0], ['M-BENZ CLA250 (C117)', 2016, 7.1, '新北市', 98.8], ['M-BENZ C300 Coupe 4MATIC AMG Line (C205)', 2017, 8.0, '新北市', 135.8], ['M-AMG C63 S (W205)', 2017, 6.0, '新北市', 226.8], ['M-BENZ C250 Coupe 運動版 (C205)', 2017, 7.0, '新北市', 138.8], ['TOYOTA Corolla Altis 經典版 (12代)', 2021, 3.9, '新北市', 45.8], ['TOYOTA Corolla Altis 經典版 (12代)', 2020, 2.3, '新北市', 41.0], ['Mazda 3 2.0 SKY-G Bose旗艦型 五門 (4代)', 2020, 4.7, '台南市', 62.2], ['TOYOTA RAV4', 2020, 5.7, '高雄市', 64.1], ['FORD Kuga', 2022, 1.6, '台南市', 68.6], ['LEXUS RX200t F Sport (4代)', 2017, 7.8, '桃園市', 140.0], ['MITSUBISHI Outlander', 2022, 0.8, '新北市', 71.8], ['TOYOTA RAV4 2.5 G (4代)', 2015, 7.4, '新北市', 45.8], ['MITSUBISHI Outlander', 2022, 3.1, '彰化縣', 65.4], ['M-BENZ S450 Coupe 4MATIC (C217)', 2018, 9.8, '新北市', 298.0], ['BMW 4 Series Gran Coupe', 2015, 5.0, '新北市', 125.0], ['TOYOTA RAV4', 2021, 2.8, '新竹市', 92.0], ['LEXUS LM300h 四人座', 2020, 6.3, '新北市', 368.8], ['中華 Zinger Pickup 2.4 晶鑽型', 2020, 4.0, '新竹市', 38.8], ['TOYOTA C-HR 尊爵 AWD', 2018, 17.0, '新竹市', 58.8], ['LEXUS ES300h 旗艦版 (6代)', 2015, 12.2, '新北市', 72.8], ['Nissan Big Tiida 1.6 豪華影音版', 2014, 7.3, '桃園市', 30.8], ['SUZUKI Jimny 1.3', 2014, 11.2, '桃園市', 35.8], ['TOYOTA Sienta 1.8 7人座尊爵', 2017, 3.3, '桃園市', 30.8], ['FORD Kuga EcoBoost 250 AWD 旗艦X (Mk3)', 2021, 2.0, '桃園市', 55.8], ['Honda CR-V S (5代)', 2020, 2.3, '桃園市', 50.8], ['TOYOTA RAV4 2.0 旗艦 (5代)', 2019, 2.3, '桃園市', 55.8], ['TOYOTA Corolla Cross Hybrid 旗艦', 2020, 1.6, '桃園市', 53.8], ['LUXGEN S5 GT225 AP賽道智能款', 2020, 3.0, '新北市', 48.8], ['TOYOTA Alphard Hybrid Executive Lounge (3代)', 2022, 2.1, '新北市', 285.8], ['TOYOTA Sienta 1.8 5人座豪華', 2018, 6.2, '新北市', 45.8], ['TOYOTA Yaris E (2代)', 2016, 7.2, '屏東縣', 36.8], ['TOYOTA Corolla Cross 安心', 2022, 1.5, '桃園市', 71.8], ['LEXUS RX200t 豪華版 (4代)', 2016, 4.2, '台中市', 138.8], ['LEXUS RX450hL 豪華版 (4代)', 2018, 8.3, '台中市', 163.8], ['TOYOTA Corolla Altis 雅緻版 (11代)', 2016, 10.7, '桃園市', 41.8], ['LEXUS NX200 菁英版 (1代)', 2018, 7.1, '台中市', 113.8], ['TOYOTA Camry 2.0 E (5代)', 2018, 8.5, '宜蘭縣', 53.8], ['LEXUS NX200 菁英版 (1代)', 2019, 3.8, '台北市', 118.8], ['TOYOTA Corolla Altis 雅緻版 (11代)', 2021, 2.4, '新北市', 73.8], ['TOYOTA Corolla Altis 雅緻版 (11代)', 2017, 6.1, '台北市', 43.8], ['INFINITI Q50 2.0t 旗艦款', 2017, 5.4, '台中市', 93.8], ['LEXUS CT200h 菁英版', 2018, 10.3, '台北市', 80.8], ['TOYOTA C-HR 經典', 2018, 2.0, '新北市', 65.8], ['FORD Focus ST-Line 五門 (Mk4)', 2019, 4.2, '桃園市', 32.8], ['LUXGEN 7 MPV 尊爵型', 2013, 12.8, '新北市', 20.0], ['M-BENZ CLA250 (C117)', 2016, 7.1, '新北市', 98.8], ['M-BENZ C300 Coupe 4MATIC AMG Line (C205)', 2017, 8.0, '新北市', 135.8], ['M-AMG C63 S (W205)', 2017, 6.0, '新北市', 226.8], ['M-BENZ C250 Coupe 運動版 (C205)', 2017, 7.0, '新北市', 138.8], ['TOYOTA Corolla Altis 經典版 (12代)', 2021, 3.9, '新北市', 45.8], ['TOYOTA Corolla Altis 經典版 (12代)', 2020, 2.3, '新北市', 41.0], ['Mazda 3 2.0 SKY-G Bose旗艦型 五門 (4代)', 2020, 4.7, '台南市', 62.2], ['TOYOTA RAV4', 2020, 5.7, '高雄市', 64.1], ['FORD Kuga', 2022, 1.6, '台南市', 68.6], ['LEXUS RX200t F Sport (4代)', 2017, 7.8, '桃園市', 140.0], ['MITSUBISHI Outlander', 2022, 0.8, '新北市', 71.8], ['TOYOTA RAV4 2.5 G (4代)', 2015, 7.4, '新北市', 45.8], ['MITSUBISHI Outlander', 2022, 3.1, '彰化縣', 65.4], ['M-BENZ S450 Coupe 4MATIC (C217)', 2018, 9.8, '新北市', 298.0], ['BMW 4 Series Gran Coupe', 2015, 5.0, '新北市', 125.0], ['TOYOTA RAV4', 2021, 2.8, '新竹市', 92.0], ['LEXUS LM300h 四人座', 2020, 6.3, '新北市', 368.8], ['中華 Zinger Pickup 2.4 晶鑽型', 2020, 4.0, '新竹市', 38.8], ['TOYOTA C-HR 尊爵 AWD', 2018, 17.0, '新竹市', 58.8], ['LEXUS ES300h 旗艦版 (6代)', 2015, 12.2, '新北市', 72.8], ['Nissan Big Tiida 1.6 豪華影音版', 2014, 7.3, '桃園市', 30.8], ['SUZUKI Jimny 1.3', 2014, 11.2, '桃園市', 35.8], ['TOYOTA Sienta 1.8 7人座尊爵', 2017, 3.3, '桃園市', 30.8], ['FORD Kuga EcoBoost 250 AWD 旗艦X (Mk3)', 2021, 2.0, '桃園市', 55.8], ['Honda CR-V S (5代)', 2020, 2.3, '桃園市', 50.8], ['TOYOTA RAV4 2.0 旗艦 (5代)', 2019, 2.3, '桃園市', 55.8], ['TOYOTA Corolla Cross Hybrid 旗艦', 2020, 1.6, '桃園市', 53.8], ['LUXGEN S5 GT225 AP賽道智能款', 2020, 3.0, '新北市', 48.8], ['TOYOTA Alphard Hybrid Executive Lounge (3代)', 2022, 2.1, '新北市', 285.8], ['TOYOTA Sienta 1.8 5人座豪華', 2018, 6.2, '新北市', 45.8], ['TOYOTA Yaris E (2代)', 2016, 7.2, '屏東縣', 36.8], ['TOYOTA Corolla Cross 安心', 2022, 1.5, '桃園市', 71.8], ['LEXUS RX200t 豪華版 (4代)', 2016, 4.2, '台中市', 138.8], ['LEXUS RX450hL 豪華版 (4代)', 2018, 8.3, '台中市', 163.8], ['TOYOTA Corolla Altis 雅緻版 (11代)', 2016, 10.7, '桃園市', 41.8], ['LEXUS NX200 菁英版 (1代)', 2018, 7.1, '台中市', 113.8], ['TOYOTA Camry 2.0 E (5代)', 2018, 8.5, '宜蘭縣', 53.8], ['LEXUS NX200 菁英版 (1代)', 2019, 3.8, '台北市', 118.8], ['TOYOTA Corolla Altis 雅緻版 (11代)', 2021, 2.4, '新北市', 73.8], ['TOYOTA Corolla Altis 雅緻版 (11代)', 2017, 6.1, '台北市', 43.8], ['INFINITI Q50 2.0t 旗艦款', 2017, 5.4, '台中市', 93.8], ['LEXUS CT200h 菁英版', 2018, 10.3, '台北市', 80.8], ['TOYOTA C-HR 經典', 2018, 2.0, '新北市', 65.8], ['FORD Focus ST-Line 五門 (Mk4)', 2019, 4.2, '桃園市', 32.8]]\n",
            "135\n",
            "[['LUXGEN 7 MPV 尊爵型', 2013, 12.8, '新北市', 20.0], ['M-BENZ CLA250 (C117)', 2016, 7.1, '新北市', 98.8], ['M-BENZ C300 Coupe 4MATIC AMG Line (C205)', 2017, 8.0, '新北市', 135.8], ['M-AMG C63 S (W205)', 2017, 6.0, '新北市', 226.8], ['M-BENZ C250 Coupe 運動版 (C205)', 2017, 7.0, '新北市', 138.8], ['TOYOTA Corolla Altis 經典版 (12代)', 2021, 3.9, '新北市', 45.8], ['TOYOTA Corolla Altis 經典版 (12代)', 2020, 2.3, '新北市', 41.0], ['Mazda 3 2.0 SKY-G Bose旗艦型 五門 (4代)', 2020, 4.7, '台南市', 62.2], ['TOYOTA RAV4', 2020, 5.7, '高雄市', 64.1], ['FORD Kuga', 2022, 1.6, '台南市', 68.6], ['LEXUS RX200t F Sport (4代)', 2017, 7.8, '桃園市', 140.0], ['MITSUBISHI Outlander', 2022, 0.8, '新北市', 71.8], ['TOYOTA RAV4 2.5 G (4代)', 2015, 7.4, '新北市', 45.8], ['MITSUBISHI Outlander', 2022, 3.1, '彰化縣', 65.4], ['M-BENZ S450 Coupe 4MATIC (C217)', 2018, 9.8, '新北市', 298.0], ['BMW 4 Series Gran Coupe', 2015, 5.0, '新北市', 125.0], ['TOYOTA RAV4', 2021, 2.8, '新竹市', 92.0], ['LEXUS LM300h 四人座', 2020, 6.3, '新北市', 368.8], ['中華 Zinger Pickup 2.4 晶鑽型', 2020, 4.0, '新竹市', 38.8], ['TOYOTA C-HR 尊爵 AWD', 2018, 17.0, '新竹市', 58.8], ['LEXUS ES300h 旗艦版 (6代)', 2015, 12.2, '新北市', 72.8], ['Nissan Big Tiida 1.6 豪華影音版', 2014, 7.3, '桃園市', 30.8], ['SUZUKI Jimny 1.3', 2014, 11.2, '桃園市', 35.8], ['TOYOTA Sienta 1.8 7人座尊爵', 2017, 3.3, '桃園市', 30.8], ['FORD Kuga EcoBoost 250 AWD 旗艦X (Mk3)', 2021, 2.0, '桃園市', 55.8], ['Honda CR-V S (5代)', 2020, 2.3, '桃園市', 50.8], ['TOYOTA RAV4 2.0 旗艦 (5代)', 2019, 2.3, '桃園市', 55.8], ['TOYOTA Corolla Cross Hybrid 旗艦', 2020, 1.6, '桃園市', 53.8], ['LUXGEN S5 GT225 AP賽道智能款', 2020, 3.0, '新北市', 48.8], ['TOYOTA Alphard Hybrid Executive Lounge (3代)', 2022, 2.1, '新北市', 285.8], ['TOYOTA Sienta 1.8 5人座豪華', 2018, 6.2, '新北市', 45.8], ['TOYOTA Yaris E (2代)', 2016, 7.2, '屏東縣', 36.8], ['TOYOTA Corolla Cross 安心', 2022, 1.5, '桃園市', 71.8], ['LEXUS RX200t 豪華版 (4代)', 2016, 4.2, '台中市', 138.8], ['LEXUS RX450hL 豪華版 (4代)', 2018, 8.3, '台中市', 163.8], ['TOYOTA Corolla Altis 雅緻版 (11代)', 2016, 10.7, '桃園市', 41.8], ['LEXUS NX200 菁英版 (1代)', 2018, 7.1, '台中市', 113.8], ['TOYOTA Camry 2.0 E (5代)', 2018, 8.5, '宜蘭縣', 53.8], ['LEXUS NX200 菁英版 (1代)', 2019, 3.8, '台北市', 118.8], ['TOYOTA Corolla Altis 雅緻版 (11代)', 2021, 2.4, '新北市', 73.8], ['TOYOTA Corolla Altis 雅緻版 (11代)', 2017, 6.1, '台北市', 43.8], ['INFINITI Q50 2.0t 旗艦款', 2017, 5.4, '台中市', 93.8], ['LEXUS CT200h 菁英版', 2018, 10.3, '台北市', 80.8], ['TOYOTA C-HR 經典', 2018, 2.0, '新北市', 65.8], ['FORD Focus ST-Line 五門 (Mk4)', 2019, 4.2, '桃園市', 32.8], ['LUXGEN 7 MPV 尊爵型', 2013, 12.8, '新北市', 20.0], ['M-BENZ CLA250 (C117)', 2016, 7.1, '新北市', 98.8], ['M-BENZ C300 Coupe 4MATIC AMG Line (C205)', 2017, 8.0, '新北市', 135.8], ['M-AMG C63 S (W205)', 2017, 6.0, '新北市', 226.8], ['M-BENZ C250 Coupe 運動版 (C205)', 2017, 7.0, '新北市', 138.8], ['TOYOTA Corolla Altis 經典版 (12代)', 2021, 3.9, '新北市', 45.8], ['TOYOTA Corolla Altis 經典版 (12代)', 2020, 2.3, '新北市', 41.0], ['Mazda 3 2.0 SKY-G Bose旗艦型 五門 (4代)', 2020, 4.7, '台南市', 62.2], ['TOYOTA RAV4', 2020, 5.7, '高雄市', 64.1], ['FORD Kuga', 2022, 1.6, '台南市', 68.6], ['LEXUS RX200t F Sport (4代)', 2017, 7.8, '桃園市', 140.0], ['MITSUBISHI Outlander', 2022, 0.8, '新北市', 71.8], ['TOYOTA RAV4 2.5 G (4代)', 2015, 7.4, '新北市', 45.8], ['MITSUBISHI Outlander', 2022, 3.1, '彰化縣', 65.4], ['M-BENZ S450 Coupe 4MATIC (C217)', 2018, 9.8, '新北市', 298.0], ['BMW 4 Series Gran Coupe', 2015, 5.0, '新北市', 125.0], ['TOYOTA RAV4', 2021, 2.8, '新竹市', 92.0], ['LEXUS LM300h 四人座', 2020, 6.3, '新北市', 368.8], ['中華 Zinger Pickup 2.4 晶鑽型', 2020, 4.0, '新竹市', 38.8], ['TOYOTA C-HR 尊爵 AWD', 2018, 17.0, '新竹市', 58.8], ['LEXUS ES300h 旗艦版 (6代)', 2015, 12.2, '新北市', 72.8], ['Nissan Big Tiida 1.6 豪華影音版', 2014, 7.3, '桃園市', 30.8], ['SUZUKI Jimny 1.3', 2014, 11.2, '桃園市', 35.8], ['TOYOTA Sienta 1.8 7人座尊爵', 2017, 3.3, '桃園市', 30.8], ['FORD Kuga EcoBoost 250 AWD 旗艦X (Mk3)', 2021, 2.0, '桃園市', 55.8], ['Honda CR-V S (5代)', 2020, 2.3, '桃園市', 50.8], ['TOYOTA RAV4 2.0 旗艦 (5代)', 2019, 2.3, '桃園市', 55.8], ['TOYOTA Corolla Cross Hybrid 旗艦', 2020, 1.6, '桃園市', 53.8], ['LUXGEN S5 GT225 AP賽道智能款', 2020, 3.0, '新北市', 48.8], ['TOYOTA Alphard Hybrid Executive Lounge (3代)', 2022, 2.1, '新北市', 285.8], ['TOYOTA Sienta 1.8 5人座豪華', 2018, 6.2, '新北市', 45.8], ['TOYOTA Yaris E (2代)', 2016, 7.2, '屏東縣', 36.8], ['TOYOTA Corolla Cross 安心', 2022, 1.5, '桃園市', 71.8], ['LEXUS RX200t 豪華版 (4代)', 2016, 4.2, '台中市', 138.8], ['LEXUS RX450hL 豪華版 (4代)', 2018, 8.3, '台中市', 163.8], ['TOYOTA Corolla Altis 雅緻版 (11代)', 2016, 10.7, '桃園市', 41.8], ['LEXUS NX200 菁英版 (1代)', 2018, 7.1, '台中市', 113.8], ['TOYOTA Camry 2.0 E (5代)', 2018, 8.5, '宜蘭縣', 53.8], ['LEXUS NX200 菁英版 (1代)', 2019, 3.8, '台北市', 118.8], ['TOYOTA Corolla Altis 雅緻版 (11代)', 2021, 2.4, '新北市', 73.8], ['TOYOTA Corolla Altis 雅緻版 (11代)', 2017, 6.1, '台北市', 43.8], ['INFINITI Q50 2.0t 旗艦款', 2017, 5.4, '台中市', 93.8], ['LEXUS CT200h 菁英版', 2018, 10.3, '台北市', 80.8], ['TOYOTA C-HR 經典', 2018, 2.0, '新北市', 65.8], ['FORD Focus ST-Line 五門 (Mk4)', 2019, 4.2, '桃園市', 32.8], ['Hyundai Elantra 1.6 悍動型 (6代)', 2017, 6.5, '桃園市', 26.8], ['Volvo S60 T4 1.6T 豪華版 (2代)', 2015, 7.8, '新北市', 38.8], ['Hyundai Elantra 1.6 豪華型 (6代)', 2017, 6.7, '桃園市', 24.8], ['TOYOTA RAV4 2.0 E (4代)', 2019, 2.5, '高雄市', 85.8], ['LEXUS NX350h 豪華版 (2代)', 2022, 1.3, '桃園市', 229.8], ['SUBARU Outback 2.5i-S EyeSight (5代)', 2019, 7.1, '新北市', 64.8], ['TOYOTA RAV4 2.5 G (4代)', 2015, 7.4, '新北市', 45.8], ['Maserati Ghibli 3.0 V6 Premium', 2016, 7.3, '新北市', 125.8], ['Volvo XC90 Plus B5 AWD', 2023, 1.2, '新北市', 209.8], ['TOYOTA Corolla Altis 雅緻版 (11代)', 2016, 11.7, '嘉義市', 43.8], ['Honda Fit e:HEV (4代)', 2022, 4.3, '新北市', 66.8], ['Honda CR-V S (5.5代)', 2021, 4.0, '新北市', 90.9], ['LEXUS ES200 豪華版 (6代)', 2022, 0.9, '高雄市', 164.8], ['LEXUS NX200 菁英版 (1代)', 2020, 2.0, '高雄市', 135.8], ['TOYOTA Corolla Cross 安心', 2022, 2.8, '南投縣', 69.8], ['TOYOTA RAV4 Hybrid 尊爵 (4.5代)', 2021, 5.2, '台南市', 97.8], ['TOYOTA Vios J (1代)', 2019, 2.4, '台南市', 40.8], ['LEXUS RX300 豪華版 (4代)', 2021, 5.8, '台北市', 177.8], ['TOYOTA Corolla Altis 雅緻版 (11代)', 2015, 7.7, '彰化縣', 39.8], ['TOYOTA Sienta 1.8 5人座豪華', 2017, 11.5, '彰化縣', 44.8], ['Porsche Panamera Diesel (970.2)', 2015, 4.0, '新北市', 148.8], ['Nissan Teana (J32) 2.0 TA 豪華版', 2015, 13.8, '台北市', 23.8], ['TOYOTA Yaris E (2代)', 2020, 4.0, '台南市', 52.8], ['TOYOTA Vios J (1代)', 2014, 13.2, '台南市', 29.8], ['LEXUS RX450h 頂級版 (3代)', 2016, 5.4, '桃園市', 136.8], ['LEXUS RX500h F Sport Performance (5代)', 2023, 0.6, '高雄市', 343.0], ['BMW M135i xDrive (F40)', 2020, 6.8, '新北市', 168.8], ['LEXUS NX200 菁英版 (1代)', 2020, 8.5, '桃園市', 94.1], ['TOYOTA RAV4', 2021, 9.8, '桃園市', 64.1], ['TOYOTA Corolla Altis 尊爵版 (12代)', 2020, 3.8, '桃園市', 45.8], ['TOYOTA Vios J (1代)', 2019, 1.3, '花蓮縣', 40.8], ['LEXUS NX200 菁英版 (1代)', 2019, 2.8, '新北市', 115.8], ['LEXUS NX200 菁英Plus版 (1代)', 2019, 2.0, '台北市', 119.8], ['M-BENZ A180 (W176)', 2017, 5.0, '台北市', 89.8], ['LEXUS RX', 2019, 9.8, '新北市', 139.3], ['LEXUS ES', 2019, 3.5, '新北市', 105.3], ['LEXUS UX200 菁英版', 2021, 12.5, '新北市', 85.2], ['Honda Civic 1.8 VTi (8代)', 2011, 15.0, '新北市', 23.8], ['M-BENZ Marco Polo V250d (W447)', 2022, 0.0, '新北市', 358.0], ['BMW 118i 運動版 (F20) 1.5T', 2018, 6.6, '新北市', 67.8], ['LEXUS LM300h 七人座', 2023, 0.8, '台北市', 888.8], ['TOYOTA Sienta 1.8 5人座豪華', 2021, 3.2, '嘉義市', 68.8], ['LEXUS UX250h 豪華版', 2019, 8.2, '桃園市', 103.8], ['FORD Focus EcoBoost 182 ST-Line X', 2023, 1.0, '彰化縣', 82.8], ['LEXUS IS250 尊榮版 (2代)', 2015, 2.4, '台北市', 78.8]]\n"
          ]
        },
        {
          "output_type": "error",
          "ename": "AttributeError",
          "evalue": "'NoneType' object has no attribute 'get_text'",
          "traceback": [
            "\u001b[0;31m---------------------------------------------------------------------------\u001b[0m",
            "\u001b[0;31mAttributeError\u001b[0m                            Traceback (most recent call last)",
            "\u001b[0;32m<ipython-input-20-96c3007925a1>\u001b[0m in \u001b[0;36m<cell line: 30>\u001b[0;34m()\u001b[0m\n\u001b[1;32m     28\u001b[0m \u001b[0;34m\u001b[0m\u001b[0m\n\u001b[1;32m     29\u001b[0m \u001b[0mdriver\u001b[0m\u001b[0;34m.\u001b[0m\u001b[0mfind_element\u001b[0m\u001b[0;34m(\u001b[0m\u001b[0mBy\u001b[0m\u001b[0;34m.\u001b[0m\u001b[0mXPATH\u001b[0m\u001b[0;34m,\u001b[0m \u001b[0;34m'//*[@id=\"search\"]/div/div[3]/div[6]/div[2]/div[1]/div[2]/div[1]/button[3]'\u001b[0m\u001b[0;34m)\u001b[0m\u001b[0;34m.\u001b[0m\u001b[0mclick\u001b[0m\u001b[0;34m(\u001b[0m\u001b[0;34m)\u001b[0m\u001b[0;34m\u001b[0m\u001b[0;34m\u001b[0m\u001b[0m\n\u001b[0;32m---> 30\u001b[0;31m \u001b[0mget_page\u001b[0m\u001b[0;34m(\u001b[0m\u001b[0md\u001b[0m\u001b[0;34m)\u001b[0m\u001b[0;34m\u001b[0m\u001b[0;34m\u001b[0m\u001b[0m\n\u001b[0m\u001b[1;32m     31\u001b[0m \u001b[0;32mfor\u001b[0m \u001b[0mitem\u001b[0m \u001b[0;32min\u001b[0m \u001b[0md\u001b[0m\u001b[0;34m:\u001b[0m\u001b[0;34m\u001b[0m\u001b[0;34m\u001b[0m\u001b[0m\n\u001b[1;32m     32\u001b[0m   \u001b[0ma\u001b[0m\u001b[0;34m.\u001b[0m\u001b[0mappend\u001b[0m\u001b[0;34m(\u001b[0m\u001b[0mitem\u001b[0m\u001b[0;34m)\u001b[0m\u001b[0;34m\u001b[0m\u001b[0;34m\u001b[0m\u001b[0m\n",
            "\u001b[0;32m<ipython-input-19-5740fb1caaa0>\u001b[0m in \u001b[0;36mget_page\u001b[0;34m(d)\u001b[0m\n\u001b[1;32m     22\u001b[0m     \u001b[0mname\u001b[0m \u001b[0;34m=\u001b[0m \u001b[0mele\u001b[0m\u001b[0;34m.\u001b[0m\u001b[0mfind\u001b[0m\u001b[0;34m(\u001b[0m\u001b[0;34m'div'\u001b[0m\u001b[0;34m,\u001b[0m\u001b[0mclass_\u001b[0m \u001b[0;34m=\u001b[0m \u001b[0;34m'flex items-center'\u001b[0m\u001b[0;34m)\u001b[0m\u001b[0;34m.\u001b[0m\u001b[0mfind\u001b[0m\u001b[0;34m(\u001b[0m\u001b[0;34m'p'\u001b[0m\u001b[0;34m,\u001b[0m \u001b[0mclass_\u001b[0m \u001b[0;34m=\u001b[0m \u001b[0;34m'flex-1 min-w-0 font-normal text-lg text-black text-ellipsis whitespace-nowrap overflow-hidden'\u001b[0m\u001b[0;34m)\u001b[0m\u001b[0;34m.\u001b[0m\u001b[0mtext\u001b[0m\u001b[0;34m\u001b[0m\u001b[0;34m\u001b[0m\u001b[0m\n\u001b[1;32m     23\u001b[0m     \u001b[0mdatas\u001b[0m \u001b[0;34m=\u001b[0m \u001b[0mele\u001b[0m\u001b[0;34m.\u001b[0m\u001b[0mfind_all\u001b[0m\u001b[0;34m(\u001b[0m\u001b[0;34m'div'\u001b[0m\u001b[0;34m,\u001b[0m\u001b[0mclass_\u001b[0m \u001b[0;34m=\u001b[0m \u001b[0;34m'w-full'\u001b[0m\u001b[0;34m)\u001b[0m\u001b[0;34m\u001b[0m\u001b[0;34m\u001b[0m\u001b[0m\n\u001b[0;32m---> 24\u001b[0;31m     \u001b[0mpr\u001b[0m \u001b[0;34m=\u001b[0m \u001b[0mele\u001b[0m\u001b[0;34m.\u001b[0m\u001b[0mfind\u001b[0m\u001b[0;34m(\u001b[0m\u001b[0;34m'p'\u001b[0m\u001b[0;34m,\u001b[0m \u001b[0mclass_\u001b[0m \u001b[0;34m=\u001b[0m \u001b[0;34m[\u001b[0m\u001b[0;34m'font-semibold text-2xl text-hotai-red px-1'\u001b[0m\u001b[0;34m,\u001b[0m\u001b[0;34m'font-semibold text-2xl text-hotai-red'\u001b[0m\u001b[0;34m]\u001b[0m\u001b[0;34m)\u001b[0m\u001b[0;34m.\u001b[0m\u001b[0mget_text\u001b[0m\u001b[0;34m(\u001b[0m\u001b[0;34m)\u001b[0m\u001b[0;34m\u001b[0m\u001b[0;34m\u001b[0m\u001b[0m\n\u001b[0m\u001b[1;32m     25\u001b[0m     \u001b[0mps\u001b[0m \u001b[0;34m=\u001b[0m \u001b[0;34m[\u001b[0m\u001b[0mfloat\u001b[0m\u001b[0;34m(\u001b[0m\u001b[0mp\u001b[0m\u001b[0;34m)\u001b[0m \u001b[0;32mfor\u001b[0m \u001b[0mp\u001b[0m \u001b[0;32min\u001b[0m \u001b[0mre\u001b[0m\u001b[0;34m.\u001b[0m\u001b[0mfindall\u001b[0m\u001b[0;34m(\u001b[0m\u001b[0;34mr\"-?\\d+\\.?\\d*\"\u001b[0m\u001b[0;34m,\u001b[0m \u001b[0mpr\u001b[0m\u001b[0;34m)\u001b[0m\u001b[0;34m]\u001b[0m\u001b[0;34m\u001b[0m\u001b[0;34m\u001b[0m\u001b[0m\n\u001b[1;32m     26\u001b[0m     \u001b[0;32mfor\u001b[0m \u001b[0mp\u001b[0m \u001b[0;32min\u001b[0m \u001b[0mps\u001b[0m\u001b[0;34m:\u001b[0m\u001b[0;34m\u001b[0m\u001b[0;34m\u001b[0m\u001b[0m\n",
            "\u001b[0;31mAttributeError\u001b[0m: 'NoneType' object has no attribute 'get_text'"
          ]
        }
      ]
    },
    {
      "cell_type": "code",
      "source": [
        "import csv\n",
        "csvfile = 'CarSale.csv'\n",
        "\n",
        "with open(csvfile, 'w+', newline='', encoding = 'utf-8') as fp:\n",
        "  writer = csv.writer(fp)\n",
        "  writer.writerow(('name', 'year', 'mileage', 'local', 'price'))\n",
        "  for item in a:\n",
        "\n",
        "    writer.writerow(item)\n",
        "    print(item)"
      ],
      "metadata": {
        "id": "WQ-Ov1JRy2zN"
      },
      "execution_count": null,
      "outputs": []
    },
    {
      "cell_type": "code",
      "source": [],
      "metadata": {
        "id": "zZ1syUXsuxy9"
      },
      "execution_count": null,
      "outputs": []
    }
  ]
}