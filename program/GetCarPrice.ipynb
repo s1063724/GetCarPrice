{
  "nbformat": 4,
  "nbformat_minor": 0,
  "metadata": {
    "colab": {
      "provenance": [],
      "authorship_tag": "ABX9TyNwgmWyyoU8ZfFisyFjQEh6",
      "include_colab_link": true
    },
    "kernelspec": {
      "name": "python3",
      "display_name": "Python 3"
    },
    "language_info": {
      "name": "python"
    }
  },
  "cells": [
    {
      "cell_type": "markdown",
      "metadata": {
        "id": "view-in-github",
        "colab_type": "text"
      },
      "source": [
        "<a href=\"https://colab.research.google.com/github/s1063724/GetCarPrice/blob/main/program/GetCarPrice.ipynb\" target=\"_parent\"><img src=\"https://colab.research.google.com/assets/colab-badge.svg\" alt=\"Open In Colab\"/></a>"
      ]
    },
    {
      "cell_type": "code",
      "execution_count": null,
      "metadata": {
        "colab": {
          "base_uri": "https://localhost:8080/"
        },
        "id": "nQ1SJpZztOr-",
        "outputId": "18f4a536-1848-4556-b495-7dca9fbd4dec"
      },
      "outputs": [
        {
          "output_type": "stream",
          "name": "stdout",
          "text": [
            "<class 'pandas.core.frame.DataFrame'>\n",
            "Index: 270 entries, M-BENZ CLA250 (C117) to TOYOTA Yaris E (2代)\n",
            "Data columns (total 4 columns):\n",
            " #   Column   Non-Null Count  Dtype  \n",
            "---  ------   --------------  -----  \n",
            " 0   year     270 non-null    object \n",
            " 1   mileage  270 non-null    float64\n",
            " 2   local    270 non-null    object \n",
            " 3   price    270 non-null    float64\n",
            "dtypes: float64(2), object(2)\n",
            "memory usage: 10.5+ KB\n"
          ]
        }
      ],
      "source": [
        "'''\n",
        "  - 資料來源:abc好車網\n",
        "    https://www.abccar.com.tw/Search?tab=1&SearchType=1&OrderByField=0\n",
        "  - 樣本數:270\n",
        "  - 欄位:車名(name)、年分(year)、里程(mileage)、區域(local)、價錢(price)\n",
        "'''\n",
        "import pandas as pd\n",
        "import numpy as np\n",
        "\n",
        "df = pd.read_csv('CarSale.csv', encoding='utf-8', index_col = ['name'])\n",
        "df.info()\n"
      ]
    },
    {
      "cell_type": "code",
      "source": [
        "data = df.copy()"
      ],
      "metadata": {
        "id": "feIbYw_2vodj"
      },
      "execution_count": null,
      "outputs": []
    },
    {
      "cell_type": "code",
      "source": [
        "target = data.pop('price')"
      ],
      "metadata": {
        "id": "r7gnYYSiuHWJ"
      },
      "execution_count": null,
      "outputs": []
    },
    {
      "cell_type": "code",
      "source": [
        "from sklearn.preprocessing import LabelEncoder\n",
        "le = LabelEncoder()\n",
        "\n",
        "data['year'] = le.fit_transform(data['year'])\n",
        "data['local'] = le.fit_transform(data['local'])\n",
        "data\n",
        "\n"
      ],
      "metadata": {
        "colab": {
          "base_uri": "https://localhost:8080/",
          "height": 455
        },
        "id": "FuBzKreiv3-k",
        "outputId": "7c854f43-1ba9-4d4c-86d8-ae278f3b4a17"
      },
      "execution_count": null,
      "outputs": [
        {
          "output_type": "execute_result",
          "data": {
            "text/plain": [
              "                                          year  mileage  local\n",
              "name                                                          \n",
              "M-BENZ CLA250 (C117)                         7      7.1      8\n",
              "M-BENZ C300 Coupe 4MATIC AMG Line (C205)     8      8.0      8\n",
              "M-AMG C63 S (W205)                           8      6.0      8\n",
              "M-BENZ C250 Coupe 運動版 (C205)                 8      7.0      8\n",
              "TOYOTA Corolla Altis 經典版 (12代)              12      3.9      8\n",
              "...                                        ...      ...    ...\n",
              "LEXUS UX250h 豪華版                            13      0.8      2\n",
              "LEXUS NX200 菁英版 (1代)                        11      6.4      2\n",
              "LEXUS NX200 菁英版 (1代)                        11      1.5      2\n",
              "TOYOTA Yaris E (2代)                          6     13.9     10\n",
              "TOYOTA Yaris E (2代)                          0     10.5     10\n",
              "\n",
              "[270 rows x 3 columns]"
            ],
            "text/html": [
              "\n",
              "  <div id=\"df-e1068bd9-d884-4abd-87f8-c0b67e709722\" class=\"colab-df-container\">\n",
              "    <div>\n",
              "<style scoped>\n",
              "    .dataframe tbody tr th:only-of-type {\n",
              "        vertical-align: middle;\n",
              "    }\n",
              "\n",
              "    .dataframe tbody tr th {\n",
              "        vertical-align: top;\n",
              "    }\n",
              "\n",
              "    .dataframe thead th {\n",
              "        text-align: right;\n",
              "    }\n",
              "</style>\n",
              "<table border=\"1\" class=\"dataframe\">\n",
              "  <thead>\n",
              "    <tr style=\"text-align: right;\">\n",
              "      <th></th>\n",
              "      <th>year</th>\n",
              "      <th>mileage</th>\n",
              "      <th>local</th>\n",
              "    </tr>\n",
              "    <tr>\n",
              "      <th>name</th>\n",
              "      <th></th>\n",
              "      <th></th>\n",
              "      <th></th>\n",
              "    </tr>\n",
              "  </thead>\n",
              "  <tbody>\n",
              "    <tr>\n",
              "      <th>M-BENZ CLA250 (C117)</th>\n",
              "      <td>7</td>\n",
              "      <td>7.1</td>\n",
              "      <td>8</td>\n",
              "    </tr>\n",
              "    <tr>\n",
              "      <th>M-BENZ C300 Coupe 4MATIC AMG Line (C205)</th>\n",
              "      <td>8</td>\n",
              "      <td>8.0</td>\n",
              "      <td>8</td>\n",
              "    </tr>\n",
              "    <tr>\n",
              "      <th>M-AMG C63 S (W205)</th>\n",
              "      <td>8</td>\n",
              "      <td>6.0</td>\n",
              "      <td>8</td>\n",
              "    </tr>\n",
              "    <tr>\n",
              "      <th>M-BENZ C250 Coupe 運動版 (C205)</th>\n",
              "      <td>8</td>\n",
              "      <td>7.0</td>\n",
              "      <td>8</td>\n",
              "    </tr>\n",
              "    <tr>\n",
              "      <th>TOYOTA Corolla Altis 經典版 (12代)</th>\n",
              "      <td>12</td>\n",
              "      <td>3.9</td>\n",
              "      <td>8</td>\n",
              "    </tr>\n",
              "    <tr>\n",
              "      <th>...</th>\n",
              "      <td>...</td>\n",
              "      <td>...</td>\n",
              "      <td>...</td>\n",
              "    </tr>\n",
              "    <tr>\n",
              "      <th>LEXUS UX250h 豪華版</th>\n",
              "      <td>13</td>\n",
              "      <td>0.8</td>\n",
              "      <td>2</td>\n",
              "    </tr>\n",
              "    <tr>\n",
              "      <th>LEXUS NX200 菁英版 (1代)</th>\n",
              "      <td>11</td>\n",
              "      <td>6.4</td>\n",
              "      <td>2</td>\n",
              "    </tr>\n",
              "    <tr>\n",
              "      <th>LEXUS NX200 菁英版 (1代)</th>\n",
              "      <td>11</td>\n",
              "      <td>1.5</td>\n",
              "      <td>2</td>\n",
              "    </tr>\n",
              "    <tr>\n",
              "      <th>TOYOTA Yaris E (2代)</th>\n",
              "      <td>6</td>\n",
              "      <td>13.9</td>\n",
              "      <td>10</td>\n",
              "    </tr>\n",
              "    <tr>\n",
              "      <th>TOYOTA Yaris E (2代)</th>\n",
              "      <td>0</td>\n",
              "      <td>10.5</td>\n",
              "      <td>10</td>\n",
              "    </tr>\n",
              "  </tbody>\n",
              "</table>\n",
              "<p>270 rows × 3 columns</p>\n",
              "</div>\n",
              "    <div class=\"colab-df-buttons\">\n",
              "\n",
              "  <div class=\"colab-df-container\">\n",
              "    <button class=\"colab-df-convert\" onclick=\"convertToInteractive('df-e1068bd9-d884-4abd-87f8-c0b67e709722')\"\n",
              "            title=\"Convert this dataframe to an interactive table.\"\n",
              "            style=\"display:none;\">\n",
              "\n",
              "  <svg xmlns=\"http://www.w3.org/2000/svg\" height=\"24px\" viewBox=\"0 -960 960 960\">\n",
              "    <path d=\"M120-120v-720h720v720H120Zm60-500h600v-160H180v160Zm220 220h160v-160H400v160Zm0 220h160v-160H400v160ZM180-400h160v-160H180v160Zm440 0h160v-160H620v160ZM180-180h160v-160H180v160Zm440 0h160v-160H620v160Z\"/>\n",
              "  </svg>\n",
              "    </button>\n",
              "\n",
              "  <style>\n",
              "    .colab-df-container {\n",
              "      display:flex;\n",
              "      gap: 12px;\n",
              "    }\n",
              "\n",
              "    .colab-df-convert {\n",
              "      background-color: #E8F0FE;\n",
              "      border: none;\n",
              "      border-radius: 50%;\n",
              "      cursor: pointer;\n",
              "      display: none;\n",
              "      fill: #1967D2;\n",
              "      height: 32px;\n",
              "      padding: 0 0 0 0;\n",
              "      width: 32px;\n",
              "    }\n",
              "\n",
              "    .colab-df-convert:hover {\n",
              "      background-color: #E2EBFA;\n",
              "      box-shadow: 0px 1px 2px rgba(60, 64, 67, 0.3), 0px 1px 3px 1px rgba(60, 64, 67, 0.15);\n",
              "      fill: #174EA6;\n",
              "    }\n",
              "\n",
              "    .colab-df-buttons div {\n",
              "      margin-bottom: 4px;\n",
              "    }\n",
              "\n",
              "    [theme=dark] .colab-df-convert {\n",
              "      background-color: #3B4455;\n",
              "      fill: #D2E3FC;\n",
              "    }\n",
              "\n",
              "    [theme=dark] .colab-df-convert:hover {\n",
              "      background-color: #434B5C;\n",
              "      box-shadow: 0px 1px 3px 1px rgba(0, 0, 0, 0.15);\n",
              "      filter: drop-shadow(0px 1px 2px rgba(0, 0, 0, 0.3));\n",
              "      fill: #FFFFFF;\n",
              "    }\n",
              "  </style>\n",
              "\n",
              "    <script>\n",
              "      const buttonEl =\n",
              "        document.querySelector('#df-e1068bd9-d884-4abd-87f8-c0b67e709722 button.colab-df-convert');\n",
              "      buttonEl.style.display =\n",
              "        google.colab.kernel.accessAllowed ? 'block' : 'none';\n",
              "\n",
              "      async function convertToInteractive(key) {\n",
              "        const element = document.querySelector('#df-e1068bd9-d884-4abd-87f8-c0b67e709722');\n",
              "        const dataTable =\n",
              "          await google.colab.kernel.invokeFunction('convertToInteractive',\n",
              "                                                    [key], {});\n",
              "        if (!dataTable) return;\n",
              "\n",
              "        const docLinkHtml = 'Like what you see? Visit the ' +\n",
              "          '<a target=\"_blank\" href=https://colab.research.google.com/notebooks/data_table.ipynb>data table notebook</a>'\n",
              "          + ' to learn more about interactive tables.';\n",
              "        element.innerHTML = '';\n",
              "        dataTable['output_type'] = 'display_data';\n",
              "        await google.colab.output.renderOutput(dataTable, element);\n",
              "        const docLink = document.createElement('div');\n",
              "        docLink.innerHTML = docLinkHtml;\n",
              "        element.appendChild(docLink);\n",
              "      }\n",
              "    </script>\n",
              "  </div>\n",
              "\n",
              "\n",
              "<div id=\"df-cbd7d4b1-0aff-43aa-bc2a-5e38de078ed2\">\n",
              "  <button class=\"colab-df-quickchart\" onclick=\"quickchart('df-cbd7d4b1-0aff-43aa-bc2a-5e38de078ed2')\"\n",
              "            title=\"Suggest charts\"\n",
              "            style=\"display:none;\">\n",
              "\n",
              "<svg xmlns=\"http://www.w3.org/2000/svg\" height=\"24px\"viewBox=\"0 0 24 24\"\n",
              "     width=\"24px\">\n",
              "    <g>\n",
              "        <path d=\"M19 3H5c-1.1 0-2 .9-2 2v14c0 1.1.9 2 2 2h14c1.1 0 2-.9 2-2V5c0-1.1-.9-2-2-2zM9 17H7v-7h2v7zm4 0h-2V7h2v10zm4 0h-2v-4h2v4z\"/>\n",
              "    </g>\n",
              "</svg>\n",
              "  </button>\n",
              "\n",
              "<style>\n",
              "  .colab-df-quickchart {\n",
              "      --bg-color: #E8F0FE;\n",
              "      --fill-color: #1967D2;\n",
              "      --hover-bg-color: #E2EBFA;\n",
              "      --hover-fill-color: #174EA6;\n",
              "      --disabled-fill-color: #AAA;\n",
              "      --disabled-bg-color: #DDD;\n",
              "  }\n",
              "\n",
              "  [theme=dark] .colab-df-quickchart {\n",
              "      --bg-color: #3B4455;\n",
              "      --fill-color: #D2E3FC;\n",
              "      --hover-bg-color: #434B5C;\n",
              "      --hover-fill-color: #FFFFFF;\n",
              "      --disabled-bg-color: #3B4455;\n",
              "      --disabled-fill-color: #666;\n",
              "  }\n",
              "\n",
              "  .colab-df-quickchart {\n",
              "    background-color: var(--bg-color);\n",
              "    border: none;\n",
              "    border-radius: 50%;\n",
              "    cursor: pointer;\n",
              "    display: none;\n",
              "    fill: var(--fill-color);\n",
              "    height: 32px;\n",
              "    padding: 0;\n",
              "    width: 32px;\n",
              "  }\n",
              "\n",
              "  .colab-df-quickchart:hover {\n",
              "    background-color: var(--hover-bg-color);\n",
              "    box-shadow: 0 1px 2px rgba(60, 64, 67, 0.3), 0 1px 3px 1px rgba(60, 64, 67, 0.15);\n",
              "    fill: var(--button-hover-fill-color);\n",
              "  }\n",
              "\n",
              "  .colab-df-quickchart-complete:disabled,\n",
              "  .colab-df-quickchart-complete:disabled:hover {\n",
              "    background-color: var(--disabled-bg-color);\n",
              "    fill: var(--disabled-fill-color);\n",
              "    box-shadow: none;\n",
              "  }\n",
              "\n",
              "  .colab-df-spinner {\n",
              "    border: 2px solid var(--fill-color);\n",
              "    border-color: transparent;\n",
              "    border-bottom-color: var(--fill-color);\n",
              "    animation:\n",
              "      spin 1s steps(1) infinite;\n",
              "  }\n",
              "\n",
              "  @keyframes spin {\n",
              "    0% {\n",
              "      border-color: transparent;\n",
              "      border-bottom-color: var(--fill-color);\n",
              "      border-left-color: var(--fill-color);\n",
              "    }\n",
              "    20% {\n",
              "      border-color: transparent;\n",
              "      border-left-color: var(--fill-color);\n",
              "      border-top-color: var(--fill-color);\n",
              "    }\n",
              "    30% {\n",
              "      border-color: transparent;\n",
              "      border-left-color: var(--fill-color);\n",
              "      border-top-color: var(--fill-color);\n",
              "      border-right-color: var(--fill-color);\n",
              "    }\n",
              "    40% {\n",
              "      border-color: transparent;\n",
              "      border-right-color: var(--fill-color);\n",
              "      border-top-color: var(--fill-color);\n",
              "    }\n",
              "    60% {\n",
              "      border-color: transparent;\n",
              "      border-right-color: var(--fill-color);\n",
              "    }\n",
              "    80% {\n",
              "      border-color: transparent;\n",
              "      border-right-color: var(--fill-color);\n",
              "      border-bottom-color: var(--fill-color);\n",
              "    }\n",
              "    90% {\n",
              "      border-color: transparent;\n",
              "      border-bottom-color: var(--fill-color);\n",
              "    }\n",
              "  }\n",
              "</style>\n",
              "\n",
              "  <script>\n",
              "    async function quickchart(key) {\n",
              "      const quickchartButtonEl =\n",
              "        document.querySelector('#' + key + ' button');\n",
              "      quickchartButtonEl.disabled = true;  // To prevent multiple clicks.\n",
              "      quickchartButtonEl.classList.add('colab-df-spinner');\n",
              "      try {\n",
              "        const charts = await google.colab.kernel.invokeFunction(\n",
              "            'suggestCharts', [key], {});\n",
              "      } catch (error) {\n",
              "        console.error('Error during call to suggestCharts:', error);\n",
              "      }\n",
              "      quickchartButtonEl.classList.remove('colab-df-spinner');\n",
              "      quickchartButtonEl.classList.add('colab-df-quickchart-complete');\n",
              "    }\n",
              "    (() => {\n",
              "      let quickchartButtonEl =\n",
              "        document.querySelector('#df-cbd7d4b1-0aff-43aa-bc2a-5e38de078ed2 button');\n",
              "      quickchartButtonEl.style.display =\n",
              "        google.colab.kernel.accessAllowed ? 'block' : 'none';\n",
              "    })();\n",
              "  </script>\n",
              "</div>\n",
              "\n",
              "  <div id=\"id_2dd45ef9-b66f-4645-86c1-7eaf52ec2bf6\">\n",
              "    <style>\n",
              "      .colab-df-generate {\n",
              "        background-color: #E8F0FE;\n",
              "        border: none;\n",
              "        border-radius: 50%;\n",
              "        cursor: pointer;\n",
              "        display: none;\n",
              "        fill: #1967D2;\n",
              "        height: 32px;\n",
              "        padding: 0 0 0 0;\n",
              "        width: 32px;\n",
              "      }\n",
              "\n",
              "      .colab-df-generate:hover {\n",
              "        background-color: #E2EBFA;\n",
              "        box-shadow: 0px 1px 2px rgba(60, 64, 67, 0.3), 0px 1px 3px 1px rgba(60, 64, 67, 0.15);\n",
              "        fill: #174EA6;\n",
              "      }\n",
              "\n",
              "      [theme=dark] .colab-df-generate {\n",
              "        background-color: #3B4455;\n",
              "        fill: #D2E3FC;\n",
              "      }\n",
              "\n",
              "      [theme=dark] .colab-df-generate:hover {\n",
              "        background-color: #434B5C;\n",
              "        box-shadow: 0px 1px 3px 1px rgba(0, 0, 0, 0.15);\n",
              "        filter: drop-shadow(0px 1px 2px rgba(0, 0, 0, 0.3));\n",
              "        fill: #FFFFFF;\n",
              "      }\n",
              "    </style>\n",
              "    <button class=\"colab-df-generate\" onclick=\"generateWithVariable('data')\"\n",
              "            title=\"Generate code using this dataframe.\"\n",
              "            style=\"display:none;\">\n",
              "\n",
              "  <svg xmlns=\"http://www.w3.org/2000/svg\" height=\"24px\"viewBox=\"0 0 24 24\"\n",
              "       width=\"24px\">\n",
              "    <path d=\"M7,19H8.4L18.45,9,17,7.55,7,17.6ZM5,21V16.75L18.45,3.32a2,2,0,0,1,2.83,0l1.4,1.43a1.91,1.91,0,0,1,.58,1.4,1.91,1.91,0,0,1-.58,1.4L9.25,21ZM18.45,9,17,7.55Zm-12,3A5.31,5.31,0,0,0,4.9,8.1,5.31,5.31,0,0,0,1,6.5,5.31,5.31,0,0,0,4.9,4.9,5.31,5.31,0,0,0,6.5,1,5.31,5.31,0,0,0,8.1,4.9,5.31,5.31,0,0,0,12,6.5,5.46,5.46,0,0,0,6.5,12Z\"/>\n",
              "  </svg>\n",
              "    </button>\n",
              "    <script>\n",
              "      (() => {\n",
              "      const buttonEl =\n",
              "        document.querySelector('#id_2dd45ef9-b66f-4645-86c1-7eaf52ec2bf6 button.colab-df-generate');\n",
              "      buttonEl.style.display =\n",
              "        google.colab.kernel.accessAllowed ? 'block' : 'none';\n",
              "\n",
              "      buttonEl.onclick = () => {\n",
              "        google.colab.notebook.generateWithVariable('data');\n",
              "      }\n",
              "      })();\n",
              "    </script>\n",
              "  </div>\n",
              "\n",
              "    </div>\n",
              "  </div>\n"
            ],
            "application/vnd.google.colaboratory.intrinsic+json": {
              "type": "dataframe",
              "variable_name": "data",
              "summary": "{\n  \"name\": \"data\",\n  \"rows\": 270,\n  \"fields\": [\n    {\n      \"column\": \"year\",\n      \"properties\": {\n        \"dtype\": \"number\",\n        \"std\": 2,\n        \"min\": 0,\n        \"max\": 14,\n        \"samples\": [\n          14,\n          3,\n          7\n        ],\n        \"num_unique_values\": 15,\n        \"semantic_type\": \"\",\n        \"description\": \"\"\n      }\n    },\n    {\n      \"column\": \"mileage\",\n      \"properties\": {\n        \"dtype\": \"number\",\n        \"std\": 6.174184673433447,\n        \"min\": 0.0,\n        \"max\": 61.8,\n        \"samples\": [\n          8.3,\n          1.7,\n          13.5\n        ],\n        \"num_unique_values\": 102,\n        \"semantic_type\": \"\",\n        \"description\": \"\"\n      }\n    },\n    {\n      \"column\": \"local\",\n      \"properties\": {\n        \"dtype\": \"number\",\n        \"std\": 3,\n        \"min\": 0,\n        \"max\": 13,\n        \"samples\": [\n          2,\n          0,\n          8\n        ],\n        \"num_unique_values\": 14,\n        \"semantic_type\": \"\",\n        \"description\": \"\"\n      }\n    }\n  ]\n}"
            }
          },
          "metadata": {},
          "execution_count": 66
        }
      ]
    },
    {
      "cell_type": "code",
      "source": [
        "data.info()"
      ],
      "metadata": {
        "colab": {
          "base_uri": "https://localhost:8080/"
        },
        "id": "r9cmvRVny-I_",
        "outputId": "61391ae0-a06c-4ed1-ad8b-9d2aa0d3f2d8"
      },
      "execution_count": null,
      "outputs": [
        {
          "output_type": "stream",
          "name": "stdout",
          "text": [
            "<class 'pandas.core.frame.DataFrame'>\n",
            "Index: 270 entries, M-BENZ CLA250 (C117) to TOYOTA Yaris E (2代)\n",
            "Data columns (total 3 columns):\n",
            " #   Column   Non-Null Count  Dtype  \n",
            "---  ------   --------------  -----  \n",
            " 0   year     270 non-null    int64  \n",
            " 1   mileage  270 non-null    float64\n",
            " 2   local    270 non-null    int64  \n",
            "dtypes: float64(1), int64(2)\n",
            "memory usage: 8.4+ KB\n"
          ]
        }
      ]
    },
    {
      "cell_type": "code",
      "source": [
        "target"
      ],
      "metadata": {
        "colab": {
          "base_uri": "https://localhost:8080/"
        },
        "id": "nRD6LPP7vveE",
        "outputId": "88c91840-a2c6-468e-b342-c56e4e09aa94"
      },
      "execution_count": null,
      "outputs": [
        {
          "output_type": "execute_result",
          "data": {
            "text/plain": [
              "name\n",
              "M-BENZ CLA250 (C117)                         98.8\n",
              "M-BENZ C300 Coupe 4MATIC AMG Line (C205)    135.8\n",
              "M-AMG C63 S (W205)                          226.8\n",
              "M-BENZ C250 Coupe 運動版 (C205)                138.8\n",
              "TOYOTA Corolla Altis 經典版 (12代)               45.8\n",
              "                                            ...  \n",
              "LEXUS UX250h 豪華版                            129.8\n",
              "LEXUS NX200 菁英版 (1代)                        127.8\n",
              "LEXUS NX200 菁英版 (1代)                        132.8\n",
              "TOYOTA Yaris E (2代)                          33.8\n",
              "TOYOTA Yaris E (2代)                          19.8\n",
              "Name: price, Length: 270, dtype: float64"
            ]
          },
          "metadata": {},
          "execution_count": 68
        }
      ]
    },
    {
      "cell_type": "code",
      "source": [
        "from sklearn.model_selection import train_test_split\n",
        "\n",
        "data_train, data_valid, target_train, target_valid = train_test_split(data, target, test_size=0.2)\n",
        "print(data_train.shape)\n",
        "print(data_valid.shape)\n",
        "\n",
        "print(target_train.shape)\n",
        "print(target_valid.shape)"
      ],
      "metadata": {
        "colab": {
          "base_uri": "https://localhost:8080/"
        },
        "id": "GbtBH9U9wEjT",
        "outputId": "5c9eadf7-16d1-4d0b-ded2-a0895572315f"
      },
      "execution_count": null,
      "outputs": [
        {
          "output_type": "stream",
          "name": "stdout",
          "text": [
            "(216, 3)\n",
            "(54, 3)\n",
            "(216,)\n",
            "(54,)\n"
          ]
        }
      ]
    },
    {
      "cell_type": "code",
      "source": [
        "from sklearn.linear_model import LinearRegression\n",
        "regr = LinearRegression()\n",
        "regr.fit(data_train, target_train)\n",
        "\n",
        "pre = regr.predict(data_valid)\n",
        "# 預測結果(汽車價格)\n",
        "print(pre.round())\n",
        "# 實際結果(汽車價格)\n",
        "print(target_valid)"
      ],
      "metadata": {
        "colab": {
          "base_uri": "https://localhost:8080/"
        },
        "id": "6KKOulKzxB93",
        "outputId": "a6b31395-db86-4cac-a227-81a8b6736f01"
      },
      "execution_count": null,
      "outputs": [
        {
          "output_type": "stream",
          "name": "stdout",
          "text": [
            "[109.  58.  96. 136. 104.  86. 129.  56.  85.  63. 150.  83. 118.  63.\n",
            "  79. 150.  41. 127. 122.  89. 107.  96.  81.  76.  78. 133.  70. 103.\n",
            " 107. 134. 139.  83. 109.  50.   0.  66. 156.  82. 138. 102.  80. 105.\n",
            " 129.  78. 141.  77.  99.  54. 100.  51. 107. 114. 126. 130.]\n",
            "name\n",
            "LEXUS NX200 菁英版 (1代)                   115.8\n",
            "TOYOTA Vios J (1代)                      29.8\n",
            "TOYOTA RAV4 2.0 E (4代)                  85.8\n",
            "Honda Fit e:HEV (4代)                    66.8\n",
            "TOYOTA RAV4 2.0 旗艦 (5代)                 55.8\n",
            "LEXUS IS250 尊榮版 (2代)                    78.8\n",
            "TOYOTA Corolla Altis 雅緻版 (11代)          73.8\n",
            "LEXUS ES300h 旗艦版 (6代)                   72.8\n",
            "M-AMG C63 S (W205)                     226.8\n",
            "TOYOTA RAV4 2.5 G (4代)                  45.8\n",
            "Volvo XC90 Plus B5 AWD                 209.8\n",
            "M-BENZ C250 Coupe 運動版 (C205)           138.8\n",
            "LUXGEN S5 GT225 AP賽道智能款                 48.8\n",
            "TOYOTA RAV4 2.5 G (4代)                  45.8\n",
            "Hyundai Elantra 1.6 悍動型 (6代)            26.8\n",
            "TOYOTA Corolla Cross                    71.7\n",
            "LUXGEN U6 TURBO 2.0 旗艦型                 13.8\n",
            "TOYOTA Vios J (1代)                      49.8\n",
            "TOYOTA Auris 旗艦版                        78.8\n",
            "TOYOTA Corolla Altis 雅緻版 (11代)          49.8\n",
            "TOYOTA Vios J (1代)                      38.8\n",
            "LEXUS RX200t 豪華版 (4代)                  138.8\n",
            "INFINITI Q50 2.0t 旗艦款                   68.8\n",
            "TOYOTA C-HR 尊爵 AWD                      58.8\n",
            "TOYOTA Yaris E (2代)                     36.8\n",
            "TOYOTA Corolla Altis 雅緻版 (11代)          58.8\n",
            "TOYOTA Corolla Altis 雅緻版 (11代)          34.8\n",
            "SUBARU Outback 2.5i-S EyeSight (5代)     64.8\n",
            "INFINITI Q50 2.0t 旗艦款                   88.8\n",
            "Honda CR-V S (5.5代)                     88.8\n",
            "Volvo XC40                             128.0\n",
            "TOYOTA Sienta 1.8 7人座尊爵                 30.8\n",
            "LEXUS RX450hL 豪華版 (4代)                 163.8\n",
            "INFINITI QX60 3.5 旗艦款 (1代)              44.8\n",
            "TOYOTA Yaris E (2代)                     23.8\n",
            "BMW 4 Series Gran Coupe                125.0\n",
            "TOYOTA Vios J (1代)                      43.8\n",
            "TOYOTA RAV4 2.0 E (4代)                  63.8\n",
            "TOYOTA RAV4 Hybrid 尊爵 (4.5代)            97.8\n",
            "M-BENZ A180 (W176)                      89.8\n",
            "LUXGEN U6 TURBO ECO HYPER 1.8 魅力型       19.8\n",
            "TOYOTA Sienta 1.8 5人座豪華                 52.8\n",
            "TOYOTA Corolla Altis 雅緻版 (11代)          73.8\n",
            "Hyundai Elantra 1.6 豪華型 (6代)            24.8\n",
            "MITSUBISHI Outlander                    71.8\n",
            "LEXUS RX200t F Sport (4代)              140.0\n",
            "TOYOTA Camry 2.0 E (5代)                 53.8\n",
            "TOYOTA Corolla Altis 雅緻版 (11代)          27.8\n",
            "TOYOTA Corolla Altis 雅緻版 (11代)          54.8\n",
            "TOYOTA Prius C                          32.8\n",
            "INFINITI Q50 2.0t 旗艦款                   88.8\n",
            "Honda CR-V S (5代)                       50.8\n",
            "TOYOTA RAV4                             92.0\n",
            "TOYOTA Yaris E (2代)                     52.8\n",
            "Name: price, dtype: float64\n"
          ]
        }
      ]
    },
    {
      "cell_type": "code",
      "source": [
        "# 訓練分數\n",
        "print(regr.score(data_train, target_train).round(3))\n",
        "# 驗證分數\n",
        "print(regr.score(data_valid, target_valid).round(3))\n",
        "\n",
        "# 係數<0.7，所以此模型不准"
      ],
      "metadata": {
        "colab": {
          "base_uri": "https://localhost:8080/"
        },
        "id": "Y3XIGvXIz5zA",
        "outputId": "3bcd3b56-dc48-4ec9-df97-024523dff8a6"
      },
      "execution_count": null,
      "outputs": [
        {
          "output_type": "stream",
          "name": "stdout",
          "text": [
            "0.148\n",
            "-0.363\n"
          ]
        }
      ]
    },
    {
      "cell_type": "code",
      "source": [
        "import matplotlib.pyplot as plt\n",
        "# 資料長度\n",
        "x = np.arange(pre.size)\n",
        "y = x*0\n",
        "plt.scatter(x, pre - target_valid)\n",
        "plt.plot(x, y, color='orange') # 劃出 y= 0 的基礎線\n",
        "plt.show()"
      ],
      "metadata": {
        "colab": {
          "base_uri": "https://localhost:8080/",
          "height": 430
        },
        "id": "HywsnayK0kRc",
        "outputId": "1c8eb2cf-47ad-4e4f-f574-6b62f5fe56c6"
      },
      "execution_count": null,
      "outputs": [
        {
          "output_type": "display_data",
          "data": {
            "text/plain": [
              "<Figure size 640x480 with 1 Axes>"
            ],
            "image/png": "[encoded data removed]"
          },
          "metadata": {}
        }
      ]
    },
    {
      "cell_type": "code",
      "source": [
        "# MAE\n",
        "from sklearn.metrics import mean_absolute_error\n",
        "# 測試資料答案跟預測結果\n",
        "print(mean_absolute_error(target_valid, pre).round(2))"
      ],
      "metadata": {
        "colab": {
          "base_uri": "https://localhost:8080/"
        },
        "id": "7wwtc3Nl01-N",
        "outputId": "95c207cc-bf55-4abb-ee88-fb1f28a3e272"
      },
      "execution_count": null,
      "outputs": [
        {
          "output_type": "stream",
          "name": "stdout",
          "text": [
            "44.08\n"
          ]
        }
      ]
    },
    {
      "cell_type": "code",
      "source": [
        "'''\n",
        "  簡單線性回歸\n",
        "    用里程預測價錢\n",
        "\n",
        "'''\n",
        "\n",
        "import numpy as np\n",
        "import pandas as pd\n",
        "from sklearn.linear_model import LinearRegression\n",
        "import matplotlib.pyplot as plt\n",
        "\n",
        "X = pd.DataFrame(df, columns=['mileage'])\n",
        "y = pd.DataFrame(df, columns=['price'])\n",
        "\n",
        "lm = LinearRegression()\n",
        "lm.fit(X,y)\n",
        "print('迴歸係數',lm.coef_)\n",
        "print('截距',lm.intercept_)\n",
        "# y = -3.5X + 116.2"
      ],
      "metadata": {
        "colab": {
          "base_uri": "https://localhost:8080/"
        },
        "id": "HKJztQtiDk-M",
        "outputId": "fc55379f-256a-43fc-a335-fb50cb2f835b"
      },
      "execution_count": null,
      "outputs": [
        {
          "output_type": "stream",
          "name": "stdout",
          "text": [
            "迴歸係數 [[-3.50731781]]\n",
            "截距 [116.20307036]\n"
          ]
        }
      ]
    },
    {
      "cell_type": "code",
      "source": [
        "# 預測\n",
        "new_m = pd.DataFrame(np.array([9.5, 15 ,5]),columns = ['mileage'])\n",
        "pred_p = lm.predict(new_m)\n",
        "print('AI 的答案:\\n',pred_p)"
      ],
      "metadata": {
        "colab": {
          "base_uri": "https://localhost:8080/"
        },
        "id": "Evs03JfNMwcD",
        "outputId": "0fd682ef-9fa3-47ec-b440-2f50fe4140fb"
      },
      "execution_count": null,
      "outputs": [
        {
          "output_type": "stream",
          "name": "stdout",
          "text": [
            "AI 的答案:\n",
            " [[82.88355119]\n",
            " [63.59330324]\n",
            " [98.66648132]]\n"
          ]
        }
      ]
    },
    {
      "cell_type": "code",
      "source": [
        "plt.scatter(df['mileage'], df['price'])\n",
        "re_price = lm.predict(X)\n",
        "plt.plot(df['mileage'], re_price, color = 'b')\n",
        "plt.plot(new_m, pred_p, color = 'r', marker = 'o', markersize = 10)\n",
        "plt.title('Car mileage predict Car price')\n",
        "plt.show()"
      ],
      "metadata": {
        "colab": {
          "base_uri": "https://localhost:8080/",
          "height": 452
        },
        "id": "Mor-5dbZNca2",
        "outputId": "eb1022d6-7057-46e8-8425-21bfb7f6e8a3"
      },
      "execution_count": null,
      "outputs": [
        {
          "output_type": "display_data",
          "data": {
            "text/plain": [
              "<Figure size 640x480 with 1 Axes>"
            ],
            "image/png": "[encoded data removed]"
          },
          "metadata": {}
        }
      ]
    }
  ]
}